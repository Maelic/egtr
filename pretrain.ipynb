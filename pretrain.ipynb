{
 "cells": [
  {
   "cell_type": "code",
   "execution_count": 1,
   "metadata": {},
   "outputs": [
    {
     "name": "stderr",
     "output_type": "stream",
     "text": [
      "2024-10-09 11:18:02.134187: I tensorflow/core/util/port.cc:153] oneDNN custom operations are on. You may see slightly different numerical results due to floating-point round-off errors from different computation orders. To turn them off, set the environment variable `TF_ENABLE_ONEDNN_OPTS=0`.\n",
      "2024-10-09 11:18:02.143570: E external/local_xla/xla/stream_executor/cuda/cuda_fft.cc:485] Unable to register cuFFT factory: Attempting to register factory for plugin cuFFT when one has already been registered\n",
      "2024-10-09 11:18:02.154515: E external/local_xla/xla/stream_executor/cuda/cuda_dnn.cc:8454] Unable to register cuDNN factory: Attempting to register factory for plugin cuDNN when one has already been registered\n",
      "2024-10-09 11:18:02.157808: E external/local_xla/xla/stream_executor/cuda/cuda_blas.cc:1452] Unable to register cuBLAS factory: Attempting to register factory for plugin cuBLAS when one has already been registered\n",
      "2024-10-09 11:18:02.165912: I tensorflow/core/platform/cpu_feature_guard.cc:210] This TensorFlow binary is optimized to use available CPU instructions in performance-critical operations.\n",
      "To enable the following instructions: AVX2 AVX512F AVX512_VNNI FMA, in other operations, rebuild TensorFlow with the appropriate compiler flags.\n",
      "2024-10-09 11:18:02.734854: W tensorflow/compiler/tf2tensorrt/utils/py_utils.cc:38] TF-TRT Warning: Could not find TensorRT\n"
     ]
    },
    {
     "name": "stdout",
     "output_type": "stream",
     "text": [
      "/home/maelic/Documents/PhD/ModelZoo/SGG/egtr/model/custom_kernel\n"
     ]
    },
    {
     "name": "stderr",
     "output_type": "stream",
     "text": [
      "Detected CUDA files, patching ldflags\n",
      "Emitting ninja build file /home/maelic/Documents/PhD/ModelZoo/SGG/egtr/model/custom_kernel/build.ninja...\n",
      "Building extension module MultiScaleDeformableAttention...\n",
      "Allowing ninja to set a default number of workers... (overridable by setting the environment variable MAX_JOBS=N)\n"
     ]
    },
    {
     "name": "stdout",
     "output_type": "stream",
     "text": [
      "ninja: no work to do.\n"
     ]
    },
    {
     "name": "stderr",
     "output_type": "stream",
     "text": [
      "Loading extension module MultiScaleDeformableAttention...\n",
      "You are using a model of type detr to instantiate a model of type . This is not supported for all configurations of models and can yield errors.\n"
     ]
    }
   ],
   "source": [
    "BACKBONE_DIRPATH=\"/home/maelic/Documents/PhD/ModelZoo/SGG/egtr/checkpoints/backbone\"\n",
    "\n",
    "import torch\n",
    "from transformers import PretrainedConfig\n",
    "from transformers.models.detr.modeling_detr import DetrConvModel, build_position_encoding\n",
    "from model.deformable_detr import DetrTimmConvEncoder\n",
    "\n",
    "\n",
    "config = PretrainedConfig.from_pretrained(\"facebook/detr-resnet-50\")\n",
    "backbone = DetrTimmConvEncoder(config.backbone, config.dilation, use_pretrained_backbone=True)\n",
    "position_embeddings = build_position_encoding(config)\n",
    "backbone = DetrConvModel(backbone, position_embeddings)\n",
    "torch.save(backbone.state_dict(), f\"{BACKBONE_DIRPATH}/resnet50.pt\")\n",
    "\n",
    "#python pretrain_detr.py --data_path /home/maelic/Documents/PhD/MyModel/SGG-Benchmark/datasets/IndoorVG_4/coco_anno --output_path /home/maelic/Documents/PhD/ModelZoo/SGG/egtr/checkpoints/detr_backbone --backbone_dirpath backbone\n"
   ]
  }
 ],
 "metadata": {
  "kernelspec": {
   "display_name": "phd",
   "language": "python",
   "name": "python3"
  },
  "language_info": {
   "codemirror_mode": {
    "name": "ipython",
    "version": 3
   },
   "file_extension": ".py",
   "mimetype": "text/x-python",
   "name": "python",
   "nbconvert_exporter": "python",
   "pygments_lexer": "ipython3",
   "version": "3.11.5"
  }
 },
 "nbformat": 4,
 "nbformat_minor": 2
}
